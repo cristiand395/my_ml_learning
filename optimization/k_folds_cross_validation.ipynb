{
 "cells": [
  {
   "cell_type": "code",
   "execution_count": 1,
   "metadata": {},
   "outputs": [],
   "source": [
    "import pandas as pd\n",
    "import numpy as np"
   ]
  },
  {
   "cell_type": "code",
   "execution_count": 2,
   "metadata": {},
   "outputs": [],
   "source": [
    "from sklearn.tree import DecisionTreeRegressor"
   ]
  },
  {
   "cell_type": "code",
   "execution_count": 3,
   "metadata": {},
   "outputs": [],
   "source": [
    "from sklearn.model_selection import (cross_val_score, KFold)\n",
    "from sklearn.metrics import mean_squared_error"
   ]
  },
  {
   "cell_type": "code",
   "execution_count": 6,
   "metadata": {},
   "outputs": [],
   "source": [
    "dataset = pd.read_csv('../data/happiness.csv')"
   ]
  },
  {
   "cell_type": "code",
   "execution_count": 7,
   "metadata": {},
   "outputs": [],
   "source": [
    "data = dataset.drop([\"country\",\"score\"],axis=1)\n",
    "targets = dataset[\"score\"]"
   ]
  },
  {
   "cell_type": "code",
   "execution_count": 8,
   "metadata": {},
   "outputs": [],
   "source": [
    "model = DecisionTreeRegressor()"
   ]
  },
  {
   "cell_type": "code",
   "execution_count": 9,
   "metadata": {},
   "outputs": [],
   "source": [
    "score = cross_val_score(model, data, targets,\n",
    "                        cv=3,\n",
    "                        scoring='neg_mean_squared_error')"
   ]
  },
  {
   "cell_type": "code",
   "execution_count": 11,
   "metadata": {},
   "outputs": [],
   "source": [
    "kf = KFold(n_splits=3, shuffle=True, random_state=42)\n"
   ]
  },
  {
   "cell_type": "code",
   "execution_count": 16,
   "metadata": {},
   "outputs": [],
   "source": [
    "mse_values = []\n",
    "for train, test in kf.split(data):\n",
    "    x_train = pd.DataFrame(columns=list(data),index=range(len(train)))\n",
    "    x_test = pd.DataFrame(columns=list(data),index=range(len(test)))\n",
    "    y_train = pd.DataFrame(columns=['score'],index=range(len(train)))\n",
    "    y_test = pd.DataFrame(columns=['score'],index=range(len(test)))\n",
    "    for i in range(len(train)):\n",
    "        x_train.iloc[i] = data.iloc[train[i]]\n",
    "        y_train.iloc[i] = targets.iloc[train[i]]\n",
    "    for j in range(len(test)):\n",
    "        x_test.iloc[j] = data.iloc[test[j]]\n",
    "        y_test.iloc[j] = targets.iloc[test[j]]\n",
    "    model = DecisionTreeRegressor().fit(x_train,y_train)\n",
    "    predict = model.predict(x_test)\n",
    "    \n",
    "    mse_values.append(mean_squared_error(y_test,predict))"
   ]
  },
  {
   "cell_type": "code",
   "execution_count": 18,
   "metadata": {},
   "outputs": [
    {
     "name": "stdout",
     "output_type": "stream",
     "text": [
      "MSE`s:  [0.008266597407297564, 0.018739985059380026, 0.006367939875015787]\n",
      "MSE mean:  0.011124840780564459\n"
     ]
    }
   ],
   "source": [
    "print(\"MSE`s: \",mse_values)\n",
    "print(\"MSE mean: \", np.mean(mse_values))"
   ]
  },
  {
   "cell_type": "code",
   "execution_count": null,
   "metadata": {},
   "outputs": [],
   "source": []
  }
 ],
 "metadata": {
  "interpreter": {
   "hash": "22fe809db6fdbb3aef8112763d03c5d12395b8a11f716a421fd22c7068f9f020"
  },
  "kernelspec": {
   "display_name": "Python 3.10.1 64-bit (conda)",
   "language": "python",
   "name": "python3"
  },
  "language_info": {
   "codemirror_mode": {
    "name": "ipython",
    "version": 3
   },
   "file_extension": ".py",
   "mimetype": "text/x-python",
   "name": "python",
   "nbconvert_exporter": "python",
   "pygments_lexer": "ipython3",
   "version": "3.10.1"
  },
  "orig_nbformat": 4
 },
 "nbformat": 4,
 "nbformat_minor": 2
}
